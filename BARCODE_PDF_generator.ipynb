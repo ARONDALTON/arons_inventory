{
 "cells": [
  {
   "cell_type": "code",
   "execution_count": 1,
   "metadata": {
    "collapsed": false
   },
   "outputs": [],
   "source": [
    "import pandas as pd"
   ]
  },
  {
   "cell_type": "markdown",
   "metadata": {},
   "source": [
    "# Read whats been done already from csv"
   ]
  },
  {
   "cell_type": "code",
   "execution_count": 20,
   "metadata": {
    "collapsed": false
   },
   "outputs": [
    {
     "name": "stdout",
     "output_type": "stream",
     "text": [
      "allready_done_barcodes.csv   barcodes.pdf  postsql_tutorial.ipynb\r\n",
      "BARCODE_PDF_generator.ipynb  database.ini\r\n"
     ]
    }
   ],
   "source": [
    "ls \n"
   ]
  },
  {
   "cell_type": "code",
   "execution_count": 29,
   "metadata": {
    "collapsed": false
   },
   "outputs": [],
   "source": [
    "df=pd.read_csv('allready_done_barcodes.csv')"
   ]
  },
  {
   "cell_type": "code",
   "execution_count": 31,
   "metadata": {
    "collapsed": false
   },
   "outputs": [],
   "source": [
    "df.columns=[\"item\",\"barnumber\",\"Desciption\" ]\n"
   ]
  },
  {
   "cell_type": "code",
   "execution_count": 32,
   "metadata": {
    "collapsed": false
   },
   "outputs": [
    {
     "data": {
      "text/html": [
       "<div>\n",
       "<table border=\"1\" class=\"dataframe\">\n",
       "  <thead>\n",
       "    <tr style=\"text-align: right;\">\n",
       "      <th></th>\n",
       "      <th>item</th>\n",
       "      <th>barnumber</th>\n",
       "      <th>Desciption</th>\n",
       "    </tr>\n",
       "  </thead>\n",
       "  <tbody>\n",
       "    <tr>\n",
       "      <th>0</th>\n",
       "      <td>0</td>\n",
       "      <td>123456</td>\n",
       "      <td>Cat 6 female connectors</td>\n",
       "    </tr>\n",
       "    <tr>\n",
       "      <th>1</th>\n",
       "      <td>1</td>\n",
       "      <td>123457</td>\n",
       "      <td>arduinio boards</td>\n",
       "    </tr>\n",
       "    <tr>\n",
       "      <th>2</th>\n",
       "      <td>2</td>\n",
       "      <td>123458</td>\n",
       "      <td>breadboards</td>\n",
       "    </tr>\n",
       "    <tr>\n",
       "      <th>3</th>\n",
       "      <td>3</td>\n",
       "      <td>123459</td>\n",
       "      <td>rubber gloves</td>\n",
       "    </tr>\n",
       "    <tr>\n",
       "      <th>4</th>\n",
       "      <td>4</td>\n",
       "      <td>123460</td>\n",
       "      <td>ridgid skill saw</td>\n",
       "    </tr>\n",
       "    <tr>\n",
       "      <th>5</th>\n",
       "      <td>5</td>\n",
       "      <td>123461</td>\n",
       "      <td>dewalt skil saw</td>\n",
       "    </tr>\n",
       "    <tr>\n",
       "      <th>6</th>\n",
       "      <td>6</td>\n",
       "      <td>123462</td>\n",
       "      <td>electric power meter</td>\n",
       "    </tr>\n",
       "    <tr>\n",
       "      <th>7</th>\n",
       "      <td>7</td>\n",
       "      <td>123463</td>\n",
       "      <td>solar meter</td>\n",
       "    </tr>\n",
       "    <tr>\n",
       "      <th>8</th>\n",
       "      <td>8</td>\n",
       "      <td>123464</td>\n",
       "      <td>osciliscope</td>\n",
       "    </tr>\n",
       "    <tr>\n",
       "      <th>9</th>\n",
       "      <td>9</td>\n",
       "      <td>123465</td>\n",
       "      <td>diferential probes</td>\n",
       "    </tr>\n",
       "    <tr>\n",
       "      <th>10</th>\n",
       "      <td>10</td>\n",
       "      <td>123466</td>\n",
       "      <td>various power supplies</td>\n",
       "    </tr>\n",
       "    <tr>\n",
       "      <th>11</th>\n",
       "      <td>11</td>\n",
       "      <td>123467</td>\n",
       "      <td>connector bag</td>\n",
       "    </tr>\n",
       "    <tr>\n",
       "      <th>12</th>\n",
       "      <td>12</td>\n",
       "      <td>123468</td>\n",
       "      <td>wires bag</td>\n",
       "    </tr>\n",
       "  </tbody>\n",
       "</table>\n",
       "</div>"
      ],
      "text/plain": [
       "    item  barnumber               Desciption\n",
       "0      0     123456  Cat 6 female connectors\n",
       "1      1     123457          arduinio boards\n",
       "2      2     123458              breadboards\n",
       "3      3     123459            rubber gloves\n",
       "4      4     123460         ridgid skill saw\n",
       "5      5     123461          dewalt skil saw\n",
       "6      6     123462     electric power meter\n",
       "7      7     123463              solar meter\n",
       "8      8     123464              osciliscope\n",
       "9      9     123465       diferential probes\n",
       "10    10     123466   various power supplies\n",
       "11    11     123467            connector bag\n",
       "12    12     123468                wires bag"
      ]
     },
     "execution_count": 32,
     "metadata": {},
     "output_type": "execute_result"
    }
   ],
   "source": [
    "df"
   ]
  },
  {
   "cell_type": "markdown",
   "metadata": {},
   "source": [
    "# Option to copy from clipboard"
   ]
  },
  {
   "cell_type": "code",
   "execution_count": 18,
   "metadata": {
    "collapsed": true
   },
   "outputs": [
    {
     "name": "stderr",
     "output_type": "stream",
     "text": [
      "/home/aron/anaconda3/envs/arons_financial_pandas/lib/python3.5/site-packages/pandas/indexes/api.py:71: RuntimeWarning: unorderable types: str() < int(), sort order is undefined for incomparable objects\n",
      "  result = result.union(other)\n"
     ]
    },
    {
     "data": {
      "text/html": [
       "<div>\n",
       "<table border=\"1\" class=\"dataframe\">\n",
       "  <thead>\n",
       "    <tr style=\"text-align: right;\">\n",
       "      <th></th>\n",
       "      <th>Unnamed: 0</th>\n",
       "      <th>0</th>\n",
       "      <th>1</th>\n",
       "    </tr>\n",
       "  </thead>\n",
       "  <tbody>\n",
       "    <tr>\n",
       "      <th>0</th>\n",
       "      <td>0</td>\n",
       "      <td>123456</td>\n",
       "      <td>Cat 6 female connectors</td>\n",
       "    </tr>\n",
       "    <tr>\n",
       "      <th>1</th>\n",
       "      <td>1</td>\n",
       "      <td>123457</td>\n",
       "      <td>arduinio boards</td>\n",
       "    </tr>\n",
       "    <tr>\n",
       "      <th>2</th>\n",
       "      <td>2</td>\n",
       "      <td>123458</td>\n",
       "      <td>breadboards</td>\n",
       "    </tr>\n",
       "    <tr>\n",
       "      <th>3</th>\n",
       "      <td>3</td>\n",
       "      <td>123459</td>\n",
       "      <td>rubber gloves</td>\n",
       "    </tr>\n",
       "    <tr>\n",
       "      <th>4</th>\n",
       "      <td>4</td>\n",
       "      <td>123460</td>\n",
       "      <td>ridgid skill saw</td>\n",
       "    </tr>\n",
       "    <tr>\n",
       "      <th>5</th>\n",
       "      <td>5</td>\n",
       "      <td>123461</td>\n",
       "      <td>dewalt skil saw</td>\n",
       "    </tr>\n",
       "    <tr>\n",
       "      <th>6</th>\n",
       "      <td>6</td>\n",
       "      <td>123462</td>\n",
       "      <td>electric power meter</td>\n",
       "    </tr>\n",
       "    <tr>\n",
       "      <th>7</th>\n",
       "      <td>7</td>\n",
       "      <td>123463</td>\n",
       "      <td>solar meter</td>\n",
       "    </tr>\n",
       "    <tr>\n",
       "      <th>8</th>\n",
       "      <td>8</td>\n",
       "      <td>123464</td>\n",
       "      <td>osciliscope</td>\n",
       "    </tr>\n",
       "    <tr>\n",
       "      <th>9</th>\n",
       "      <td>9</td>\n",
       "      <td>123465</td>\n",
       "      <td>diferential probes</td>\n",
       "    </tr>\n",
       "    <tr>\n",
       "      <th>10</th>\n",
       "      <td>10</td>\n",
       "      <td>123466</td>\n",
       "      <td>various power supplies</td>\n",
       "    </tr>\n",
       "    <tr>\n",
       "      <th>11</th>\n",
       "      <td>11</td>\n",
       "      <td>123467</td>\n",
       "      <td>connector bag</td>\n",
       "    </tr>\n",
       "    <tr>\n",
       "      <th>12</th>\n",
       "      <td>12</td>\n",
       "      <td>123468</td>\n",
       "      <td>wires bag</td>\n",
       "    </tr>\n",
       "  </tbody>\n",
       "</table>\n",
       "</div>"
      ],
      "text/plain": [
       "    Unnamed: 0       0                        1\n",
       "0            0  123456  Cat 6 female connectors\n",
       "1            1  123457          arduinio boards\n",
       "2            2  123458              breadboards\n",
       "3            3  123459            rubber gloves\n",
       "4            4  123460         ridgid skill saw\n",
       "5            5  123461          dewalt skil saw\n",
       "6            6  123462     electric power meter\n",
       "7            7  123463              solar meter\n",
       "8            8  123464              osciliscope\n",
       "9            9  123465       diferential probes\n",
       "10          10  123466   various power supplies\n",
       "11          11  123467            connector bag\n",
       "12          12  123468                wires bag"
      ]
     },
     "execution_count": 18,
     "metadata": {},
     "output_type": "execute_result"
    }
   ],
   "source": [
    "df.append(pd.read_clipboard(header=None))\n",
    "df"
   ]
  },
  {
   "cell_type": "code",
   "execution_count": 33,
   "metadata": {
    "collapsed": false
   },
   "outputs": [
    {
     "data": {
      "text/html": [
       "<div>\n",
       "<table border=\"1\" class=\"dataframe\">\n",
       "  <thead>\n",
       "    <tr style=\"text-align: right;\">\n",
       "      <th></th>\n",
       "      <th>item</th>\n",
       "      <th>barnumber</th>\n",
       "    </tr>\n",
       "  </thead>\n",
       "  <tbody>\n",
       "    <tr>\n",
       "      <th>count</th>\n",
       "      <td>13.00000</td>\n",
       "      <td>13.00000</td>\n",
       "    </tr>\n",
       "    <tr>\n",
       "      <th>mean</th>\n",
       "      <td>6.00000</td>\n",
       "      <td>123462.00000</td>\n",
       "    </tr>\n",
       "    <tr>\n",
       "      <th>std</th>\n",
       "      <td>3.89444</td>\n",
       "      <td>3.89444</td>\n",
       "    </tr>\n",
       "    <tr>\n",
       "      <th>min</th>\n",
       "      <td>0.00000</td>\n",
       "      <td>123456.00000</td>\n",
       "    </tr>\n",
       "    <tr>\n",
       "      <th>25%</th>\n",
       "      <td>3.00000</td>\n",
       "      <td>123459.00000</td>\n",
       "    </tr>\n",
       "    <tr>\n",
       "      <th>50%</th>\n",
       "      <td>6.00000</td>\n",
       "      <td>123462.00000</td>\n",
       "    </tr>\n",
       "    <tr>\n",
       "      <th>75%</th>\n",
       "      <td>9.00000</td>\n",
       "      <td>123465.00000</td>\n",
       "    </tr>\n",
       "    <tr>\n",
       "      <th>max</th>\n",
       "      <td>12.00000</td>\n",
       "      <td>123468.00000</td>\n",
       "    </tr>\n",
       "  </tbody>\n",
       "</table>\n",
       "</div>"
      ],
      "text/plain": [
       "           item     barnumber\n",
       "count  13.00000      13.00000\n",
       "mean    6.00000  123462.00000\n",
       "std     3.89444       3.89444\n",
       "min     0.00000  123456.00000\n",
       "25%     3.00000  123459.00000\n",
       "50%     6.00000  123462.00000\n",
       "75%     9.00000  123465.00000\n",
       "max    12.00000  123468.00000"
      ]
     },
     "execution_count": 33,
     "metadata": {},
     "output_type": "execute_result"
    }
   ],
   "source": [
    "df.describe()"
   ]
  },
  {
   "cell_type": "markdown",
   "metadata": {},
   "source": [
    "# Option to copy from csv"
   ]
  },
  {
   "cell_type": "code",
   "execution_count": null,
   "metadata": {
    "collapsed": true
   },
   "outputs": [],
   "source": []
  },
  {
   "cell_type": "markdown",
   "metadata": {},
   "source": [
    "# Lets start "
   ]
  },
  {
   "cell_type": "code",
   "execution_count": 34,
   "metadata": {
    "collapsed": false
   },
   "outputs": [
    {
     "name": "stderr",
     "output_type": "stream",
     "text": [
      "/home/aron/anaconda3/envs/arons_financial_pandas/lib/python3.5/site-packages/ipykernel/__main__.py:1: FutureWarning: icol(i) is deprecated. Please use .iloc[:,i]\n",
      "  if __name__ == '__main__':\n"
     ]
    },
    {
     "data": {
      "text/plain": [
       "0    123456\n",
       "1    123457\n",
       "2    123458\n",
       "3    123459\n",
       "4    123460\n",
       "Name: barnumber, dtype: int64"
      ]
     },
     "execution_count": 34,
     "metadata": {},
     "output_type": "execute_result"
    }
   ],
   "source": [
    "df.icol(1).head()\n"
   ]
  },
  {
   "cell_type": "code",
   "execution_count": 35,
   "metadata": {
    "collapsed": false
   },
   "outputs": [
    {
     "data": {
      "text/plain": [
       "item           int64\n",
       "barnumber      int64\n",
       "Desciption    object\n",
       "dtype: object"
      ]
     },
     "execution_count": 35,
     "metadata": {},
     "output_type": "execute_result"
    }
   ],
   "source": [
    "df.dtypes"
   ]
  },
  {
   "cell_type": "code",
   "execution_count": 36,
   "metadata": {
    "collapsed": false
   },
   "outputs": [
    {
     "data": {
      "text/plain": [
       "range(0, 13)"
      ]
     },
     "execution_count": 36,
     "metadata": {},
     "output_type": "execute_result"
    }
   ],
   "source": [
    "range(0,len(df),1)"
   ]
  },
  {
   "cell_type": "code",
   "execution_count": 37,
   "metadata": {
    "collapsed": false
   },
   "outputs": [
    {
     "name": "stdout",
     "output_type": "stream",
     "text": [
      "123456\n",
      "123457\n",
      "123458\n",
      "123459\n",
      "123460\n",
      "123461\n",
      "123462\n",
      "123463\n",
      "123464\n",
      "123465\n",
      "123466\n",
      "123467\n",
      "123468\n"
     ]
    },
    {
     "name": "stderr",
     "output_type": "stream",
     "text": [
      "/home/aron/anaconda3/envs/arons_financial_pandas/lib/python3.5/site-packages/ipykernel/__main__.py:2: FutureWarning: icol(i) is deprecated. Please use .iloc[:,i]\n",
      "  from ipykernel import kernelapp as app\n"
     ]
    }
   ],
   "source": [
    "for d in range(0,len(df),1):\n",
    "    print(df.icol(1)[d])"
   ]
  },
  {
   "cell_type": "code",
   "execution_count": 38,
   "metadata": {
    "collapsed": false
   },
   "outputs": [
    {
     "name": "stdout",
     "output_type": "stream",
     "text": [
      "allready_done_barcodes.csv   barcodes.pdf  postsql_tutorial.ipynb\r\n",
      "BARCODE_PDF_generator.ipynb  database.ini\r\n"
     ]
    }
   ],
   "source": [
    "ls\n"
   ]
  },
  {
   "cell_type": "code",
   "execution_count": 9,
   "metadata": {
    "collapsed": false
   },
   "outputs": [],
   "source": [
    "\n",
    "df.to_csv('allready_done_barcodes.csv')"
   ]
  },
  {
   "cell_type": "markdown",
   "metadata": {},
   "source": [
    "++Import and setup to draw barcodes*"
   ]
  },
  {
   "cell_type": "raw",
   "metadata": {},
   "source": [
    "from reportlab.graphics.barcode import code39, code128, code93\n",
    "from reportlab.graphics.barcode import eanbc, qr, usps\n",
    "from reportlab.graphics.shapes import Drawing \n",
    "from reportlab.lib.pagesizes import letter\n",
    "from reportlab.lib.units import mm\n",
    "from reportlab.pdfgen import canvas\n",
    "from reportlab.graphics import renderPDF\n",
    " "
   ]
  },
  {
   "cell_type": "code",
   "execution_count": 33,
   "metadata": {
    "collapsed": false
   },
   "outputs": [],
   "source": [
    "#----------------------------------------------------------------------\n",
    "def createBarCodes(barcode_value,desciption,placex,placey):\n",
    "    \"\"\"\n",
    "    Create barcode examples and embed in a PDF\n",
    "    \"\"\"\n",
    "\n",
    "   \n",
    "    # draw the eanbc8 code\n",
    "    barcode_eanbc8 = eanbc.Ean8BarcodeWidget(barcode_value)\n",
    "    bounds = barcode_eanbc8.getBounds()\n",
    "    width = bounds[2] - bounds[0]\n",
    "    height = bounds[3] - bounds[1]\n",
    "    d = Drawing(50, 10)\n",
    "    d.add(barcode_eanbc8)\n",
    "    renderPDF.draw(d, c, placex, placey)\n",
    " \n",
    " \n",
    "    # draw a QR code\n",
    "    unit=desciption\n",
    "    qr_code = qr.QrCodeWidget(unit)\n",
    "    bounds = qr_code.getBounds()\n",
    "    width = bounds[2] - bounds[0]\n",
    "    height = bounds[3] - bounds[1]\n",
    "    d = Drawing(45, 45, transform=[45./width,0,0,45./height,0,0])\n",
    "    d.add(qr_code)\n",
    "    renderPDF.draw(d, c, placex+30, placey)\n",
    "    c.drawString(placex+30, placey-20,unit)\n",
    "#     c.showPage()\n",
    "    \n",
    "#     c.save()\n",
    " \n",
    "# if __name__ == \"__main__\":\n",
    "#     createBarCodes()"
   ]
  },
  {
   "cell_type": "code",
   "execution_count": 34,
   "metadata": {
    "collapsed": false
   },
   "outputs": [
    {
     "ename": "NameError",
     "evalue": "name 'canvas' is not defined",
     "output_type": "error",
     "traceback": [
      "\u001b[0;31m---------------------------------------------------------------------------\u001b[0m",
      "\u001b[0;31mNameError\u001b[0m                                 Traceback (most recent call last)",
      "\u001b[0;32m<ipython-input-34-f7e52138f4c2>\u001b[0m in \u001b[0;36m<module>\u001b[0;34m()\u001b[0m\n\u001b[0;32m----> 1\u001b[0;31m \u001b[0mc\u001b[0m \u001b[0;34m=\u001b[0m \u001b[0mcanvas\u001b[0m\u001b[0;34m.\u001b[0m\u001b[0mCanvas\u001b[0m\u001b[0;34m(\u001b[0m\u001b[0;34m\"barcodes.pdf\"\u001b[0m\u001b[0;34m,\u001b[0m \u001b[0mpagesize\u001b[0m\u001b[0;34m=\u001b[0m\u001b[0mletter\u001b[0m\u001b[0;34m)\u001b[0m\u001b[0;34m\u001b[0m\u001b[0m\n\u001b[0m\u001b[1;32m      2\u001b[0m \u001b[0mc\u001b[0m\u001b[0;34m.\u001b[0m\u001b[0mshowPage\u001b[0m\u001b[0;34m(\u001b[0m\u001b[0;34m)\u001b[0m\u001b[0;34m\u001b[0m\u001b[0m\n\u001b[1;32m      3\u001b[0m \u001b[0mc\u001b[0m\u001b[0;34m.\u001b[0m\u001b[0msave\u001b[0m\u001b[0;34m(\u001b[0m\u001b[0;34m)\u001b[0m\u001b[0;34m\u001b[0m\u001b[0m\n\u001b[1;32m      4\u001b[0m \u001b[0;34m\u001b[0m\u001b[0m\n\u001b[1;32m      5\u001b[0m \u001b[0mcreateBarCodes\u001b[0m\u001b[0;34m(\u001b[0m\u001b[0;34m'123456'\u001b[0m\u001b[0;34m,\u001b[0m\u001b[0;34m'bar:1234565;Desc:Female CAT6 connectors'\u001b[0m\u001b[0;34m,\u001b[0m\u001b[0;36m15\u001b[0m\u001b[0;34m,\u001b[0m\u001b[0;36m600\u001b[0m\u001b[0;34m)\u001b[0m\u001b[0;34m\u001b[0m\u001b[0m\n",
      "\u001b[0;31mNameError\u001b[0m: name 'canvas' is not defined"
     ]
    }
   ],
   "source": [
    "c = canvas.Canvas(\"barcodes.pdf\", pagesize=letter)\n",
    "c.showPage()\n",
    "c.save()\n",
    "\n",
    "createBarCodes('123456','bar:1234565;Desc:Female CAT6 connectors',15,600)"
   ]
  },
  {
   "cell_type": "code",
   "execution_count": 19,
   "metadata": {
    "collapsed": false
   },
   "outputs": [],
   "source": [
    "from reportlab.graphics.barcode import code39, code128, code93\n",
    "from reportlab.graphics.barcode import eanbc, qr, usps\n",
    "from reportlab.graphics.shapes import Drawing \n",
    "from reportlab.lib.pagesizes import letter\n",
    "from reportlab.lib.units import mm\n",
    "from reportlab.pdfgen import canvas\n",
    "from reportlab.graphics import renderPDF\n",
    " \n",
    "#----------------------------------------------------------------------\n",
    "def createBarCodes():\n",
    "    \"\"\"\n",
    "    Create barcode examples and embed in a PDF\n",
    "    \"\"\"\n",
    "    c = canvas.Canvas(\"barcodes.pdf\", pagesize=letter)\n",
    " \n",
    "    barcode_value = \"1234567890\"\n",
    " \n",
    "    barcode39 = code39.Extended39(barcode_value)\n",
    "    barcode39Std = code39.Standard39(barcode_value, barHeight=20, stop=1)\n",
    " \n",
    "    # code93 also has an Extended and MultiWidth version\n",
    "    barcode93 = code93.Standard93(barcode_value)\n",
    " \n",
    "    barcode128 = code128.Code128(barcode_value)\n",
    "    # the multiwidth barcode appears to be broken \n",
    "    #barcode128Multi = code128.MultiWidthBarcode(barcode_value)\n",
    " \n",
    "    barcode_usps = usps.POSTNET(\"50158-9999\")\n",
    " \n",
    "    codes = [barcode39, barcode39Std, barcode93, barcode128, barcode_usps]\n",
    " \n",
    "    x = 1 * mm\n",
    "    y = 285 * mm\n",
    "    x1 = 6.4 * mm\n",
    " \n",
    "    for code in codes:\n",
    "        code.drawOn(c, x, y)\n",
    "        y = y - 15 * mm\n",
    " \n",
    "    # draw the eanbc8 code\n",
    "    barcode_eanbc8 = eanbc.Ean8BarcodeWidget(barcode_value)\n",
    "    bounds = barcode_eanbc8.getBounds()\n",
    "    width = bounds[2] - bounds[0]\n",
    "    height = bounds[3] - bounds[1]\n",
    "    d = Drawing(50, 10)\n",
    "    d.add(barcode_eanbc8)\n",
    "    renderPDF.draw(d, c, 15, 555)\n",
    " \n",
    "    # draw the eanbc13 code\n",
    "    barcode_eanbc13 = eanbc.Ean13BarcodeWidget(barcode_value)\n",
    "    bounds = barcode_eanbc13.getBounds()\n",
    "    width = bounds[2] - bounds[0]\n",
    "    height = bounds[3] - bounds[1]\n",
    "    d = Drawing(50, 10)\n",
    "    d.add(barcode_eanbc13)\n",
    "    renderPDF.draw(d, c, 15, 465)\n",
    " \n",
    "    # draw a QR code\n",
    "    unit='bar:1234565;Desc:Female CAT6 connectors'\n",
    "    qr_code = qr.QrCodeWidget(unit)\n",
    "    bounds = qr_code.getBounds()\n",
    "    width = bounds[2] - bounds[0]\n",
    "    height = bounds[3] - bounds[1]\n",
    "    d = Drawing(45, 45, transform=[45./width,0,0,45./height,0,0])\n",
    "    d.add(qr_code)\n",
    "    renderPDF.draw(d, c, 15, 405)\n",
    "    c.drawString(15,390,unit)\n",
    "    c.showPage()\n",
    "    \n",
    "    c.save()\n",
    " \n",
    "if __name__ == \"__main__\":\n",
    "    createBarCodes()"
   ]
  },
  {
   "cell_type": "code",
   "execution_count": 20,
   "metadata": {
    "collapsed": false
   },
   "outputs": [],
   "source": [
    "\n",
    "createBarCodes()"
   ]
  },
  {
   "cell_type": "code",
   "execution_count": 35,
   "metadata": {
    "collapsed": false
   },
   "outputs": [
    {
     "data": {
      "text/plain": [
       "['bar:1234565', 'Desc:Female CAT6 connectors']"
      ]
     },
     "execution_count": 35,
     "metadata": {},
     "output_type": "execute_result"
    }
   ],
   "source": [
    "unit='bar:1234565;Desc:Female CAT6 connectors'\n",
    "unit.split(\";\")# for i in u.split(':')}"
   ]
  },
  {
   "cell_type": "code",
   "execution_count": 36,
   "metadata": {
    "collapsed": false
   },
   "outputs": [
    {
     "data": {
      "text/plain": [
       "['bar', '1234565', 'Desc', 'Female CAT6 connectors']"
      ]
     },
     "execution_count": 36,
     "metadata": {},
     "output_type": "execute_result"
    }
   ],
   "source": [
    "unit='bar:1234565;Desc:Female CAT6 connectors'\n",
    "[i for u in unit.split(\";\") for i in u.split(':')]"
   ]
  },
  {
   "cell_type": "code",
   "execution_count": 58,
   "metadata": {
    "collapsed": false
   },
   "outputs": [],
   "source": [
    "unit='bar:1234565;Desc:Female CAT6 connectors'\n",
    "temp=[i for u in unit.split(\";\") for i in u.split(':')]\n",
    "pairs={}\n",
    "for i in range(0,4,2):\n",
    "    pairs.update({temp[i]:temp[i+1]})\n",
    "    #print([temp[i]],[temp[i+1]])"
   ]
  },
  {
   "cell_type": "code",
   "execution_count": 63,
   "metadata": {
    "collapsed": false
   },
   "outputs": [
    {
     "data": {
      "text/plain": [
       "{'Desc': 'Female CAT6 connectors', 'bar': '1234565'}"
      ]
     },
     "execution_count": 63,
     "metadata": {},
     "output_type": "execute_result"
    }
   ],
   "source": [
    "pairs"
   ]
  },
  {
   "cell_type": "code",
   "execution_count": 62,
   "metadata": {
    "collapsed": false
   },
   "outputs": [
    {
     "data": {
      "text/plain": [
       "'1234565'"
      ]
     },
     "execution_count": 62,
     "metadata": {},
     "output_type": "execute_result"
    }
   ],
   "source": [
    "pairs['bar']"
   ]
  },
  {
   "cell_type": "code",
   "execution_count": null,
   "metadata": {
    "collapsed": true
   },
   "outputs": [],
   "source": []
  },
  {
   "cell_type": "code",
   "execution_count": 34,
   "metadata": {
    "collapsed": false
   },
   "outputs": [
    {
     "data": {
      "text/plain": [
       "['bar', '1234565']"
      ]
     },
     "execution_count": 34,
     "metadata": {},
     "output_type": "execute_result"
    }
   ],
   "source": [
    "unit='bar:1234565;Desc:Female CAT6 connectors'\n",
    "{: for u in unit.split(\";\") for i in u.split(':')}"
   ]
  },
  {
   "cell_type": "code",
   "execution_count": 41,
   "metadata": {
    "collapsed": false
   },
   "outputs": [
    {
     "ename": "ImportError",
     "evalue": "cannot import name 'MediaIoBaseDownload'",
     "output_type": "error",
     "traceback": [
      "\u001b[0;31m---------------------------------------------------------------------------\u001b[0m",
      "\u001b[0;31mImportError\u001b[0m                               Traceback (most recent call last)",
      "\u001b[0;32m<ipython-input-41-3b25cfebd69f>\u001b[0m in \u001b[0;36m<module>\u001b[0;34m()\u001b[0m\n\u001b[0;32m----> 1\u001b[0;31m \u001b[0;32mfrom\u001b[0m \u001b[0mapiclient\u001b[0m \u001b[0;32mimport\u001b[0m \u001b[0mdiscovery\u001b[0m\u001b[0;34m,\u001b[0m\u001b[0mMediaIoBaseDownload\u001b[0m\u001b[0;34m\u001b[0m\u001b[0m\n\u001b[0m",
      "\u001b[0;31mImportError\u001b[0m: cannot import name 'MediaIoBaseDownload'"
     ]
    }
   ],
   "source": [
    "from apiclient import discovery,MediaIoBaseDownload"
   ]
  },
  {
   "cell_type": "code",
   "execution_count": 39,
   "metadata": {
    "collapsed": false
   },
   "outputs": [
    {
     "name": "stdout",
     "output_type": "stream",
     "text": [
      "Overwriting quickstart.py\n"
     ]
    }
   ],
   "source": [
    "%%writefile quickstart.py\n",
    "\n",
    "from __future__ import print_function\n",
    "import httplib2\n",
    "import os\n",
    "import io\n",
    "\n",
    "from apiclient import discovery,MediaIoBaseDownload\n",
    "from oauth2client import client\n",
    "from oauth2client import tools\n",
    "from oauth2client.file import Storage\n",
    "\n",
    "try:\n",
    "    import argparse\n",
    "    flags = argparse.ArgumentParser(parents=[tools.argparser]).parse_args()\n",
    "except ImportError:\n",
    "    flags = None\n",
    "\n",
    "# If modifying these scopes, delete your previously saved credentials\n",
    "# at ~/.credentials/drive-python-quickstart.json\n",
    "SCOPES = 'https://www.googleapis.com/auth/drive.metadata.readonly'\n",
    "CLIENT_SECRET_FILE = 'client_secret.json'\n",
    "APPLICATION_NAME = 'Drive API Python Quickstart'\n",
    "\n",
    "\n",
    "def get_credentials():\n",
    "    \"\"\"Gets valid user credentials from storage.\n",
    "\n",
    "    If nothing has been stored, or if the stored credentials are invalid,\n",
    "    the OAuth2 flow is completed to obtain the new credentials.\n",
    "\n",
    "    Returns:\n",
    "        Credentials, the obtained credential.\n",
    "    \"\"\"\n",
    "    home_dir = os.path.expanduser('~')\n",
    "    credential_dir = os.path.join(home_dir, '.credentials')\n",
    "    if not os.path.exists(credential_dir):\n",
    "        os.makedirs(credential_dir)\n",
    "    credential_path = os.path.join(credential_dir,\n",
    "                                   'drive-python-quickstart.json')\n",
    "\n",
    "    store = Storage(credential_path)\n",
    "    credentials = store.get()\n",
    "    if not credentials or credentials.invalid:\n",
    "        flow = client.flow_from_clientsecrets(CLIENT_SECRET_FILE, SCOPES)\n",
    "        flow.user_agent = APPLICATION_NAME\n",
    "        if flags:\n",
    "            credentials = tools.run_flow(flow, store, flags)\n",
    "        else: # Needed only for compatibility with Python 2.6\n",
    "            credentials = tools.run(flow, store)\n",
    "        print('Storing credentials to ' + credential_path)\n",
    "    return credentials\n",
    "\n",
    "def main():\n",
    "    \"\"\"Shows basic usage of the Google Drive API.\n",
    "\n",
    "    Creates a Google Drive API service object and outputs the names and IDs\n",
    "    for up to 10 files.\n",
    "    \"\"\"\n",
    "    credentials = get_credentials()\n",
    "    http = credentials.authorize(httplib2.Http())\n",
    "    service = discovery.build('drive', 'v3', http=http)\n",
    "\n",
    "    results = service.files().list(\n",
    "        pageSize=50,fields=\"nextPageToken, files(id, name)\").execute()\n",
    "    items = results.get('files', [])\n",
    "    if not items:\n",
    "        print('No files found.')\n",
    "    else:\n",
    "        print('Files:')\n",
    "        for item in items:\n",
    "            print('{0} ({1})'.format(item['name'], item['id']))\n",
    "\n",
    "    file_id = '0BwH2mHPHI9FQNTJxWnpoTkh5ZzQ'\n",
    "    request = service.files().export_media(fileId=file_id,\n",
    "                                                 mimeType='application/pdf')\n",
    "    fh = io.BytesIO()\n",
    "    downloader = MediaIoBaseDownload(fh, request)\n",
    "    done = False\n",
    "    while done is False:\n",
    "        status, done = downloader.next_chunk()\n",
    "        print (\"Download %d%%.\" % int(status.progress() * 100))\n",
    "\n",
    "\n",
    "if __name__ == '__main__':\n",
    "    main()\n"
   ]
  },
  {
   "cell_type": "code",
   "execution_count": 40,
   "metadata": {
    "collapsed": false
   },
   "outputs": [
    {
     "name": "stdout",
     "output_type": "stream",
     "text": [
      "Files:\n",
      "2017-09-22.db (0BwH2mHPHI9FQTy0yR3M1clFwcTA)\n",
      "2017-09-21.db (0BwH2mHPHI9FQdjdaaENOR3IyOTA)\n",
      "2017-09-20.db (0BwH2mHPHI9FQX1RtWGk3YkdSaUE)\n",
      "2017-08-23-20-25-00-962.jpg (0BwH2mHPHI9FQdWhjS0lnTjMtOXc)\n",
      "2017-08-13-18-59-00-934.jpg (0BwH2mHPHI9FQMEh6VVFsVC1MLXM)\n",
      "2017-08-12-16-44-00-525.jpg (0BwH2mHPHI9FQa2taQkdVQkM0eTA)\n",
      "2017-08-12-15-13-00-921.jpg (0BwH2mHPHI9FQMlIxMWNjMUt4UTA)\n",
      "2017-08-12-15-17-00-366.jpg (0BwH2mHPHI9FQbVlnaTliZXJoWXM)\n",
      "2017-08-12-15-16-00-485.jpg (0BwH2mHPHI9FQaVZlOVJCd2VGQTQ)\n",
      "2017-08-12-15-13-00-34.jpg (0BwH2mHPHI9FQZ0VLRzZqR3VPajA)\n",
      "2017-08-07-17-45-00-310.jpg (0BwH2mHPHI9FQUjJVWTA0TE1nMHc)\n",
      "2017-09-19.db (0BwH2mHPHI9FQOVZ0V1RqdVdObWc)\n",
      "2017-09-18.db (0BwH2mHPHI9FQRWdubTZIR3hxU0U)\n",
      "2017-09-17.db (0BwH2mHPHI9FQVkFxcjBxX1BfWXM)\n",
      "2017-09-16.db (0BwH2mHPHI9FQUF9FdmZkbHdOYUk)\n",
      "2017-09-14.db (0BwH2mHPHI9FQWS05VllTZnJqNkE)\n",
      "2017-09-09.db (0BwH2mHPHI9FQNERDcDJMWm9meWc)\n",
      "2017-08-30.db (0BwH2mHPHI9FQU3BFMHliUXROYms)\n",
      "2017-08-27.db (0BwH2mHPHI9FQZ1p5VThpV3dUMTg)\n",
      "2017-08-25.db (0BwH2mHPHI9FQSW5PVnozcC0zQm8)\n",
      "Find a Time (1m8Yfo0MADZ5ip71Stepg3iGToWXU0R_j9CDvETCVcAw)\n",
      "2017-08-24.db (0BwH2mHPHI9FQLS11WXVEOHNRWEU)\n",
      "2017-08-23.db (0BwH2mHPHI9FQVmZmcmVqdU41SlU)\n",
      "2017-08-22.db (0BwH2mHPHI9FQNkY2U29ra0tEZVE)\n",
      "2017-08-20.db (0BwH2mHPHI9FQcWw2d2V2Rk1tV0U)\n",
      "2017-08-19.db (0BwH2mHPHI9FQWk15RHhBVENFZmc)\n",
      "2017-08-18.db (0BwH2mHPHI9FQMlhZN0Y2SEZkNms)\n",
      "2017-08-17.db (0BwH2mHPHI9FQT2xtY2dGQ29TRG8)\n",
      "2017-08-13.db (0BwH2mHPHI9FQZTZlOUQ3ZW0wbXM)\n",
      "2017-08-12.db (0BwH2mHPHI9FQQTh6YUx2RWVZTE0)\n",
      "SimpleMind Mind Map - Relationship (0BwH2mHPHI9FQNTJxWnpoTkh5ZzQ)\n",
      "2017-08-11.db (0BwH2mHPHI9FQcHE0VWN3R3ZFRTg)\n",
      "2017-08-09.db (0BwH2mHPHI9FQVVZqMkMxV3puMmc)\n",
      "2017-08-07.db (0BwH2mHPHI9FQUHJJQkZRc1QwTTA)\n",
      "Callisto warning and check for local assault concerns.smmx (0BwH2mHPHI9FQZ3piQkJHSThtcVE)\n",
      "Export (0BwH2mHPHI9FQQjRzUFMyeWZVSFU)\n",
      "Documents (0BwH2mHPHI9FQU1h4eVpFVzB4X1E)\n",
      "Audio (0BwH2mHPHI9FQRXk1ZDV5RnRsUUk)\n",
      "Movies (0BwH2mHPHI9FQWGRENUVhMWNsdGc)\n",
      "Images (0BwH2mHPHI9FQbXhCMTlDSnNsVjg)\n",
      "SimpleMind (0BwH2mHPHI9FQUlM2QjljRmhwRGc)\n",
      "2017-07-31.db (0BwH2mHPHI9FQSFQ3akNsWEpEbjQ)\n",
      "earned  it max and kina.mp3 (0BwH2mHPHI9FQWGdwaUxVRmFRcVVySnhJRU85amNQX1FncGVn)\n",
      "Rental Application.pdf (0B5dKGpL6uFpEdUU1WDFPOGp3SWc)\n",
      "2017-07-22.db (0BwH2mHPHI9FQZnRua1BhWGE0QjQ)\n",
      "2017-07-19.db (0BwH2mHPHI9FQS0NWYTk4VXRNVVU)\n",
      "2017-07-17.db (0BwH2mHPHI9FQcFptaDJreWZXaUk)\n",
      "2017-07-14.db (0BwH2mHPHI9FQRnhQdm0yMENaTTg)\n",
      "2017-07-13.db (0BwH2mHPHI9FQZHRKaXBfejJtQmM)\n",
      "janes doc appointment 2017-07-13_14-35.mp3 (0BwH2mHPHI9FQRktqQkczeHpkREU)\n"
     ]
    },
    {
     "ename": "NameError",
     "evalue": "name 'MediaIoBaseDownload' is not defined",
     "output_type": "error",
     "traceback": [
      "\u001b[0;31m---------------------------------------------------------------------------\u001b[0m",
      "\u001b[0;31mNameError\u001b[0m                                 Traceback (most recent call last)",
      "\u001b[0;32m~/samba-shair/ubuntu/ipythone files/ipythonfiles/quickstart.py\u001b[0m in \u001b[0;36m<module>\u001b[0;34m()\u001b[0m\n\u001b[1;32m     83\u001b[0m \u001b[0;34m\u001b[0m\u001b[0m\n\u001b[1;32m     84\u001b[0m \u001b[0;32mif\u001b[0m \u001b[0m__name__\u001b[0m \u001b[0;34m==\u001b[0m \u001b[0;34m'__main__'\u001b[0m\u001b[0;34m:\u001b[0m\u001b[0;34m\u001b[0m\u001b[0m\n\u001b[0;32m---> 85\u001b[0;31m     \u001b[0mmain\u001b[0m\u001b[0;34m(\u001b[0m\u001b[0;34m)\u001b[0m\u001b[0;34m\u001b[0m\u001b[0m\n\u001b[0m",
      "\u001b[0;32m~/samba-shair/ubuntu/ipythone files/ipythonfiles/quickstart.py\u001b[0m in \u001b[0;36mmain\u001b[0;34m()\u001b[0m\n\u001b[1;32m     75\u001b[0m                                                  mimeType='application/pdf')\n\u001b[1;32m     76\u001b[0m     \u001b[0mfh\u001b[0m \u001b[0;34m=\u001b[0m \u001b[0mio\u001b[0m\u001b[0;34m.\u001b[0m\u001b[0mBytesIO\u001b[0m\u001b[0;34m(\u001b[0m\u001b[0;34m)\u001b[0m\u001b[0;34m\u001b[0m\u001b[0m\n\u001b[0;32m---> 77\u001b[0;31m     \u001b[0mdownloader\u001b[0m \u001b[0;34m=\u001b[0m \u001b[0mMediaIoBaseDownload\u001b[0m\u001b[0;34m(\u001b[0m\u001b[0mfh\u001b[0m\u001b[0;34m,\u001b[0m \u001b[0mrequest\u001b[0m\u001b[0;34m)\u001b[0m\u001b[0;34m\u001b[0m\u001b[0m\n\u001b[0m\u001b[1;32m     78\u001b[0m     \u001b[0mdone\u001b[0m \u001b[0;34m=\u001b[0m \u001b[0;32mFalse\u001b[0m\u001b[0;34m\u001b[0m\u001b[0m\n\u001b[1;32m     79\u001b[0m     \u001b[0;32mwhile\u001b[0m \u001b[0mdone\u001b[0m \u001b[0;32mis\u001b[0m \u001b[0;32mFalse\u001b[0m\u001b[0;34m:\u001b[0m\u001b[0;34m\u001b[0m\u001b[0m\n",
      "\u001b[0;31mNameError\u001b[0m: name 'MediaIoBaseDownload' is not defined"
     ]
    }
   ],
   "source": [
    "%run quickstart.py\n"
   ]
  },
  {
   "cell_type": "code",
   "execution_count": 44,
   "metadata": {
    "collapsed": false
   },
   "outputs": [
    {
     "name": "stdout",
     "output_type": "stream",
     "text": [
      "Overwriting quickstart2.py\n"
     ]
    }
   ],
   "source": [
    "%%writefile quickstart2.py\n",
    "from __future__ import print_function\n",
    "import httplib2\n",
    "import os\n",
    "\n",
    "from apiclient import discovery\n",
    "from oauth2client import client\n",
    "from oauth2client import tools\n",
    "from oauth2client.file import Storage\n",
    "\n",
    "try:\n",
    "    import argparse\n",
    "    flags = argparse.ArgumentParser(parents=[tools.argparser]).parse_args()\n",
    "except ImportError:\n",
    "    flags = None\n",
    "\n",
    "# If modifying these scopes, delete your previously saved credentials\n",
    "# at ~/.credentials/sheets.googleapis.com-python-quickstart.json\n",
    "SCOPES = 'https://www.googleapis.com/auth/spreadsheets.readonly'\n",
    "CLIENT_SECRET_FILE = 'client_secret.json'\n",
    "APPLICATION_NAME = 'Google Sheets API Python Quickstart'\n",
    "\n",
    "\n",
    "def get_credentials():\n",
    "    \"\"\"Gets valid user credentials from storage.\n",
    "\n",
    "    If nothing has been stored, or if the stored credentials are invalid,\n",
    "    the OAuth2 flow is completed to obtain the new credentials.\n",
    "\n",
    "    Returns:\n",
    "        Credentials, the obtained credential.\n",
    "    \"\"\"\n",
    "    home_dir = os.path.expanduser('~')\n",
    "    credential_dir = os.path.join(home_dir, '.credentials')\n",
    "    if not os.path.exists(credential_dir):\n",
    "        os.makedirs(credential_dir)\n",
    "    credential_path = os.path.join(credential_dir,\n",
    "                                   'sheets.googleapis.com-python-quickstart.json')\n",
    "\n",
    "    store = Storage(credential_path)\n",
    "    credentials = store.get()\n",
    "    if not credentials or credentials.invalid:\n",
    "        flow = client.flow_from_clientsecrets(CLIENT_SECRET_FILE, SCOPES)\n",
    "        flow.user_agent = APPLICATION_NAME\n",
    "        if flags:\n",
    "            credentials = tools.run_flow(flow, store, flags)\n",
    "        else: # Needed only for compatibility with Python 2.6\n",
    "            credentials = tools.run(flow, store)\n",
    "        print('Storing credentials to ' + credential_path)\n",
    "    return credentials\n",
    "\n",
    "def main():\n",
    "    \"\"\"Shows basic usage of the Sheets API.\n",
    "\n",
    "    Creates a Sheets API service object and prints the names and majors of\n",
    "    students in a sample spreadsheet:\n",
    "    https://docs.google.com/spreadsheets/d/1BxiMVs0XRA5nFMdKvBdBZjgmUUqptlbs74OgvE2upms/edit\n",
    "    \"\"\"\n",
    "    credentials = get_credentials()\n",
    "    http = credentials.authorize(httplib2.Http())\n",
    "    discoveryUrl = ('https://sheets.googleapis.com/$discovery/rest?'\n",
    "                    'version=v4')\n",
    "    service = discovery.build('sheets', 'v4', http=http,\n",
    "                              discoveryServiceUrl=discoveryUrl)\n",
    "\n",
    "    spreadsheetId = '1BxiMVs0XRA5nFMdKvBdBZjgmUUqptlbs74OgvE2upms'\n",
    "    rangeName = 'Class Data!A2:E'\n",
    "    result = service.spreadsheets().values().get(\n",
    "        spreadsheetId=spreadsheetId, range=rangeName).execute()\n",
    "    values = result.get('values', [])\n",
    "\n",
    "    if not values:\n",
    "        print('No data found.')\n",
    "    else:\n",
    "        print('Name, Major:')\n",
    "        for row in values:\n",
    "            # Print columns A and E, which correspond to indices 0 and 4.\n",
    "            print('%s, %s' % (row[0], row[4]))\n",
    "\n",
    "\n",
    "if __name__ == '__main__':\n",
    "    main()\n"
   ]
  },
  {
   "cell_type": "code",
   "execution_count": 46,
   "metadata": {
    "collapsed": false
   },
   "outputs": [
    {
     "name": "stdout",
     "output_type": "stream",
     "text": [
      "Name, Major:\n",
      "Alexandra, English\n",
      "Andrew, Math\n",
      "Anna, English\n",
      "Becky, Art\n",
      "Benjamin, English\n",
      "Carl, Art\n",
      "Carrie, English\n",
      "Dorothy, Math\n",
      "Dylan, Math\n",
      "Edward, English\n",
      "Ellen, Physics\n",
      "Fiona, Art\n",
      "John, Physics\n",
      "Jonathan, Math\n",
      "Joseph, English\n",
      "Josephine, Math\n",
      "Karen, English\n",
      "Kevin, Physics\n",
      "Lisa, Art\n",
      "Mary, Physics\n",
      "Maureen, Physics\n",
      "Nick, Art\n",
      "Olivia, Physics\n",
      "Pamela, Math\n",
      "Patrick, Art\n",
      "Robert, English\n",
      "Sean, Physics\n",
      "Stacy, Math\n",
      "Thomas, Art\n",
      "Will, Math\n"
     ]
    }
   ],
   "source": [
    "%run quickstart2.py"
   ]
  },
  {
   "cell_type": "code",
   "execution_count": 23,
   "metadata": {
    "collapsed": false
   },
   "outputs": [
    {
     "name": "stdout",
     "output_type": "stream",
     "text": [
      "Help on package apiclient:\n",
      "\n",
      "NAME\n",
      "    apiclient - Retain apiclient as an alias for googleapiclient.\n",
      "\n",
      "PACKAGE CONTENTS\n",
      "\n",
      "\n",
      "DATA\n",
      "    module_name = 'model'\n",
      "\n",
      "VERSION\n",
      "    1.6.4\n",
      "\n",
      "FILE\n",
      "    /home/aron/anaconda3/envs/qr_code_gen/lib/python3.5/site-packages/apiclient/__init__.py\n",
      "\n",
      "\n"
     ]
    }
   ],
   "source": [
    "help(apiclient.g) "
   ]
  },
  {
   "cell_type": "code",
   "execution_count": null,
   "metadata": {
    "collapsed": true
   },
   "outputs": [],
   "source": [
    "    credentials = get_credentials()\n",
    "    http = credentials.authorize(httplib2.Http())\n",
    "    service = discovery.build('drive', 'v3', http=http)\n",
    "\n",
    "    results = service.files().list(\n",
    "        pageSize=50,fields=\"nextPageToken, files(id, name)\").execute()\n",
    "    items = results.get('files', [])\n",
    "    if not items:\n",
    "        print('No files found.')\n",
    "    else:\n",
    "        print('Files:')\n",
    "        for item in items:\n",
    "            print('{0} ({1})'.format(item['name'], item['id']))\n"
   ]
  }
 ],
 "metadata": {
  "anaconda-cloud": {},
  "kernelspec": {
   "display_name": "Python [conda env:arons_financial_pandas]",
   "language": "python",
   "name": "conda-env-arons_financial_pandas-py"
  },
  "language_info": {
   "codemirror_mode": {
    "name": "ipython",
    "version": 3
   },
   "file_extension": ".py",
   "mimetype": "text/x-python",
   "name": "python",
   "nbconvert_exporter": "python",
   "pygments_lexer": "ipython3",
   "version": "3.5.2"
  },
  "toc": {
   "colors": {
    "hover_highlight": "#DAA520",
    "running_highlight": "#FF0000",
    "selected_highlight": "#FFD700"
   },
   "moveMenuLeft": true,
   "nav_menu": {
    "height": "12px",
    "width": "252px"
   },
   "navigate_menu": true,
   "number_sections": true,
   "sideBar": true,
   "threshold": 4,
   "toc_cell": false,
   "toc_section_display": "block",
   "toc_window_display": false
  }
 },
 "nbformat": 4,
 "nbformat_minor": 1
}
